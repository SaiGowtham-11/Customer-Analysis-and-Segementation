{
 "cells": [
  {
   "cell_type": "markdown",
   "id": "566d00e5",
   "metadata": {},
   "source": [
    "<h2> Method_2 </h2> \n",
    "<h3> This notebook is presented by Pratibha Awasthi (015215655). Our data set consists of features like quantity, length of URL, parameters, and more, mainly numerical or categorical. During the analysis, it was observed that the considerable data set consists of '-1' as a value which the data authors have not described. \n",
    "This approach believes eventhough significance of '-1' is not described but it does hold some meaning. Also removal of such big data may distort the actual accuracy. Hence it consists -1\" </h3>"
   ]
  },
  {
   "cell_type": "markdown",
   "id": "fe932255",
   "metadata": {},
   "source": [
    "<h2> Data load and manipulation </h2>"
   ]
  },
  {
   "cell_type": "code",
   "execution_count": 1,
   "id": "c256626b",
   "metadata": {},
   "outputs": [],
   "source": [
    "import matplotlib.pyplot as plt\n",
    "import seaborn as sns\n",
    "import pandas as pd\n",
    "import numpy as np\n",
    "\n",
    "%matplotlib inline"
   ]
  },
  {
   "cell_type": "code",
   "execution_count": 2,
   "id": "ace8f3a6",
   "metadata": {},
   "outputs": [],
   "source": [
    "df = pd.read_csv('dataset_full.csv')"
   ]
  },
  {
   "cell_type": "code",
   "execution_count": 3,
   "id": "875a68de",
   "metadata": {},
   "outputs": [
    {
     "data": {
      "text/html": [
       "<div>\n",
       "<style scoped>\n",
       "    .dataframe tbody tr th:only-of-type {\n",
       "        vertical-align: middle;\n",
       "    }\n",
       "\n",
       "    .dataframe tbody tr th {\n",
       "        vertical-align: top;\n",
       "    }\n",
       "\n",
       "    .dataframe thead th {\n",
       "        text-align: right;\n",
       "    }\n",
       "</style>\n",
       "<table border=\"1\" class=\"dataframe\">\n",
       "  <thead>\n",
       "    <tr style=\"text-align: right;\">\n",
       "      <th></th>\n",
       "      <th>qty_dot_url</th>\n",
       "      <th>qty_hyphen_url</th>\n",
       "      <th>qty_underline_url</th>\n",
       "      <th>qty_slash_url</th>\n",
       "      <th>qty_questionmark_url</th>\n",
       "      <th>qty_equal_url</th>\n",
       "      <th>qty_at_url</th>\n",
       "      <th>qty_and_url</th>\n",
       "      <th>qty_exclamation_url</th>\n",
       "      <th>qty_space_url</th>\n",
       "      <th>...</th>\n",
       "      <th>qty_ip_resolved</th>\n",
       "      <th>qty_nameservers</th>\n",
       "      <th>qty_mx_servers</th>\n",
       "      <th>ttl_hostname</th>\n",
       "      <th>tls_ssl_certificate</th>\n",
       "      <th>qty_redirects</th>\n",
       "      <th>url_google_index</th>\n",
       "      <th>domain_google_index</th>\n",
       "      <th>url_shortened</th>\n",
       "      <th>phishing</th>\n",
       "    </tr>\n",
       "  </thead>\n",
       "  <tbody>\n",
       "    <tr>\n",
       "      <th>0</th>\n",
       "      <td>3</td>\n",
       "      <td>0</td>\n",
       "      <td>0</td>\n",
       "      <td>1</td>\n",
       "      <td>0</td>\n",
       "      <td>0</td>\n",
       "      <td>0</td>\n",
       "      <td>0</td>\n",
       "      <td>0</td>\n",
       "      <td>0</td>\n",
       "      <td>...</td>\n",
       "      <td>1</td>\n",
       "      <td>2</td>\n",
       "      <td>0</td>\n",
       "      <td>892</td>\n",
       "      <td>0</td>\n",
       "      <td>0</td>\n",
       "      <td>0</td>\n",
       "      <td>0</td>\n",
       "      <td>0</td>\n",
       "      <td>1</td>\n",
       "    </tr>\n",
       "    <tr>\n",
       "      <th>1</th>\n",
       "      <td>5</td>\n",
       "      <td>0</td>\n",
       "      <td>1</td>\n",
       "      <td>3</td>\n",
       "      <td>0</td>\n",
       "      <td>3</td>\n",
       "      <td>0</td>\n",
       "      <td>2</td>\n",
       "      <td>0</td>\n",
       "      <td>0</td>\n",
       "      <td>...</td>\n",
       "      <td>1</td>\n",
       "      <td>2</td>\n",
       "      <td>1</td>\n",
       "      <td>9540</td>\n",
       "      <td>1</td>\n",
       "      <td>0</td>\n",
       "      <td>0</td>\n",
       "      <td>0</td>\n",
       "      <td>0</td>\n",
       "      <td>1</td>\n",
       "    </tr>\n",
       "    <tr>\n",
       "      <th>2</th>\n",
       "      <td>2</td>\n",
       "      <td>0</td>\n",
       "      <td>0</td>\n",
       "      <td>1</td>\n",
       "      <td>0</td>\n",
       "      <td>0</td>\n",
       "      <td>0</td>\n",
       "      <td>0</td>\n",
       "      <td>0</td>\n",
       "      <td>0</td>\n",
       "      <td>...</td>\n",
       "      <td>1</td>\n",
       "      <td>2</td>\n",
       "      <td>3</td>\n",
       "      <td>589</td>\n",
       "      <td>1</td>\n",
       "      <td>0</td>\n",
       "      <td>0</td>\n",
       "      <td>0</td>\n",
       "      <td>0</td>\n",
       "      <td>0</td>\n",
       "    </tr>\n",
       "    <tr>\n",
       "      <th>3</th>\n",
       "      <td>4</td>\n",
       "      <td>0</td>\n",
       "      <td>2</td>\n",
       "      <td>5</td>\n",
       "      <td>0</td>\n",
       "      <td>0</td>\n",
       "      <td>0</td>\n",
       "      <td>0</td>\n",
       "      <td>0</td>\n",
       "      <td>0</td>\n",
       "      <td>...</td>\n",
       "      <td>1</td>\n",
       "      <td>2</td>\n",
       "      <td>0</td>\n",
       "      <td>292</td>\n",
       "      <td>1</td>\n",
       "      <td>0</td>\n",
       "      <td>0</td>\n",
       "      <td>0</td>\n",
       "      <td>0</td>\n",
       "      <td>1</td>\n",
       "    </tr>\n",
       "    <tr>\n",
       "      <th>4</th>\n",
       "      <td>2</td>\n",
       "      <td>0</td>\n",
       "      <td>0</td>\n",
       "      <td>0</td>\n",
       "      <td>0</td>\n",
       "      <td>0</td>\n",
       "      <td>0</td>\n",
       "      <td>0</td>\n",
       "      <td>0</td>\n",
       "      <td>0</td>\n",
       "      <td>...</td>\n",
       "      <td>1</td>\n",
       "      <td>2</td>\n",
       "      <td>1</td>\n",
       "      <td>3597</td>\n",
       "      <td>0</td>\n",
       "      <td>1</td>\n",
       "      <td>0</td>\n",
       "      <td>0</td>\n",
       "      <td>0</td>\n",
       "      <td>0</td>\n",
       "    </tr>\n",
       "  </tbody>\n",
       "</table>\n",
       "<p>5 rows × 112 columns</p>\n",
       "</div>"
      ],
      "text/plain": [
       "   qty_dot_url  qty_hyphen_url  qty_underline_url  qty_slash_url  \\\n",
       "0            3               0                  0              1   \n",
       "1            5               0                  1              3   \n",
       "2            2               0                  0              1   \n",
       "3            4               0                  2              5   \n",
       "4            2               0                  0              0   \n",
       "\n",
       "   qty_questionmark_url  qty_equal_url  qty_at_url  qty_and_url  \\\n",
       "0                     0              0           0            0   \n",
       "1                     0              3           0            2   \n",
       "2                     0              0           0            0   \n",
       "3                     0              0           0            0   \n",
       "4                     0              0           0            0   \n",
       "\n",
       "   qty_exclamation_url  qty_space_url  ...  qty_ip_resolved  qty_nameservers  \\\n",
       "0                    0              0  ...                1                2   \n",
       "1                    0              0  ...                1                2   \n",
       "2                    0              0  ...                1                2   \n",
       "3                    0              0  ...                1                2   \n",
       "4                    0              0  ...                1                2   \n",
       "\n",
       "   qty_mx_servers  ttl_hostname  tls_ssl_certificate  qty_redirects  \\\n",
       "0               0           892                    0              0   \n",
       "1               1          9540                    1              0   \n",
       "2               3           589                    1              0   \n",
       "3               0           292                    1              0   \n",
       "4               1          3597                    0              1   \n",
       "\n",
       "   url_google_index  domain_google_index  url_shortened  phishing  \n",
       "0                 0                    0              0         1  \n",
       "1                 0                    0              0         1  \n",
       "2                 0                    0              0         0  \n",
       "3                 0                    0              0         1  \n",
       "4                 0                    0              0         0  \n",
       "\n",
       "[5 rows x 112 columns]"
      ]
     },
     "execution_count": 3,
     "metadata": {},
     "output_type": "execute_result"
    }
   ],
   "source": [
    "df.head()"
   ]
  },
  {
   "cell_type": "code",
   "execution_count": 4,
   "id": "5c568c32",
   "metadata": {},
   "outputs": [
    {
     "data": {
      "text/plain": [
       "['qty_dot_url',\n",
       " 'qty_hyphen_url',\n",
       " 'qty_underline_url',\n",
       " 'qty_slash_url',\n",
       " 'qty_questionmark_url',\n",
       " 'qty_equal_url',\n",
       " 'qty_at_url',\n",
       " 'qty_and_url',\n",
       " 'qty_exclamation_url',\n",
       " 'qty_space_url',\n",
       " 'qty_tilde_url',\n",
       " 'qty_comma_url',\n",
       " 'qty_plus_url',\n",
       " 'qty_asterisk_url',\n",
       " 'qty_hashtag_url',\n",
       " 'qty_dollar_url',\n",
       " 'qty_percent_url',\n",
       " 'qty_tld_url',\n",
       " 'length_url',\n",
       " 'qty_dot_domain',\n",
       " 'qty_hyphen_domain',\n",
       " 'qty_underline_domain',\n",
       " 'qty_slash_domain',\n",
       " 'qty_questionmark_domain',\n",
       " 'qty_equal_domain',\n",
       " 'qty_at_domain',\n",
       " 'qty_and_domain',\n",
       " 'qty_exclamation_domain',\n",
       " 'qty_space_domain',\n",
       " 'qty_tilde_domain',\n",
       " 'qty_comma_domain',\n",
       " 'qty_plus_domain',\n",
       " 'qty_asterisk_domain',\n",
       " 'qty_hashtag_domain',\n",
       " 'qty_dollar_domain',\n",
       " 'qty_percent_domain',\n",
       " 'qty_vowels_domain',\n",
       " 'domain_length',\n",
       " 'domain_in_ip',\n",
       " 'server_client_domain',\n",
       " 'qty_dot_directory',\n",
       " 'qty_hyphen_directory',\n",
       " 'qty_underline_directory',\n",
       " 'qty_slash_directory',\n",
       " 'qty_questionmark_directory',\n",
       " 'qty_equal_directory',\n",
       " 'qty_at_directory',\n",
       " 'qty_and_directory',\n",
       " 'qty_exclamation_directory',\n",
       " 'qty_space_directory',\n",
       " 'qty_tilde_directory',\n",
       " 'qty_comma_directory',\n",
       " 'qty_plus_directory',\n",
       " 'qty_asterisk_directory',\n",
       " 'qty_hashtag_directory',\n",
       " 'qty_dollar_directory',\n",
       " 'qty_percent_directory',\n",
       " 'directory_length',\n",
       " 'qty_dot_file',\n",
       " 'qty_hyphen_file',\n",
       " 'qty_underline_file',\n",
       " 'qty_slash_file',\n",
       " 'qty_questionmark_file',\n",
       " 'qty_equal_file',\n",
       " 'qty_at_file',\n",
       " 'qty_and_file',\n",
       " 'qty_exclamation_file',\n",
       " 'qty_space_file',\n",
       " 'qty_tilde_file',\n",
       " 'qty_comma_file',\n",
       " 'qty_plus_file',\n",
       " 'qty_asterisk_file',\n",
       " 'qty_hashtag_file',\n",
       " 'qty_dollar_file',\n",
       " 'qty_percent_file',\n",
       " 'file_length',\n",
       " 'qty_dot_params',\n",
       " 'qty_hyphen_params',\n",
       " 'qty_underline_params',\n",
       " 'qty_slash_params',\n",
       " 'qty_questionmark_params',\n",
       " 'qty_equal_params',\n",
       " 'qty_at_params',\n",
       " 'qty_and_params',\n",
       " 'qty_exclamation_params',\n",
       " 'qty_space_params',\n",
       " 'qty_tilde_params',\n",
       " 'qty_comma_params',\n",
       " 'qty_plus_params',\n",
       " 'qty_asterisk_params',\n",
       " 'qty_hashtag_params',\n",
       " 'qty_dollar_params',\n",
       " 'qty_percent_params',\n",
       " 'params_length',\n",
       " 'tld_present_params',\n",
       " 'qty_params',\n",
       " 'email_in_url',\n",
       " 'time_response',\n",
       " 'domain_spf',\n",
       " 'asn_ip',\n",
       " 'time_domain_activation',\n",
       " 'time_domain_expiration',\n",
       " 'qty_ip_resolved',\n",
       " 'qty_nameservers',\n",
       " 'qty_mx_servers',\n",
       " 'ttl_hostname',\n",
       " 'tls_ssl_certificate',\n",
       " 'qty_redirects',\n",
       " 'url_google_index',\n",
       " 'domain_google_index',\n",
       " 'url_shortened',\n",
       " 'phishing']"
      ]
     },
     "execution_count": 4,
     "metadata": {},
     "output_type": "execute_result"
    }
   ],
   "source": [
    "list(df.columns)"
   ]
  },
  {
   "cell_type": "code",
   "execution_count": 5,
   "id": "50d384f0",
   "metadata": {},
   "outputs": [
    {
     "data": {
      "text/plain": [
       "2     53649\n",
       "1     15885\n",
       "3     13205\n",
       "4      3593\n",
       "5      1008\n",
       "6       454\n",
       "7       217\n",
       "14      135\n",
       "8       120\n",
       "15       86\n",
       "9        64\n",
       "10       48\n",
       "16       44\n",
       "13       37\n",
       "12       33\n",
       "11       32\n",
       "17       22\n",
       "18        6\n",
       "20        3\n",
       "22        3\n",
       "19        1\n",
       "23        1\n",
       "24        1\n",
       "Name: qty_dot_url, dtype: int64"
      ]
     },
     "execution_count": 5,
     "metadata": {},
     "output_type": "execute_result"
    }
   ],
   "source": [
    "df['qty_dot_url'].value_counts()"
   ]
  },
  {
   "cell_type": "code",
   "execution_count": 6,
   "id": "9edbc31c",
   "metadata": {},
   "outputs": [
    {
     "name": "stdout",
     "output_type": "stream",
     "text": [
      "<class 'pandas.core.frame.DataFrame'>\n",
      "RangeIndex: 88647 entries, 0 to 88646\n",
      "Columns: 112 entries, qty_dot_url to phishing\n",
      "dtypes: float64(1), int64(111)\n",
      "memory usage: 75.7 MB\n"
     ]
    }
   ],
   "source": [
    "df.info()"
   ]
  },
  {
   "cell_type": "markdown",
   "id": "0f3f558b",
   "metadata": {},
   "source": [
    "<H3> The data below is checked for NA values. If found these values would be eliminated. However, it is found that there have been no such null values. <h3/>"
   ]
  },
  {
   "cell_type": "code",
   "execution_count": 7,
   "id": "2eb07e56",
   "metadata": {},
   "outputs": [
    {
     "data": {
      "text/plain": [
       "qty_dot_url             0\n",
       "qty_hyphen_url          0\n",
       "qty_underline_url       0\n",
       "qty_slash_url           0\n",
       "qty_questionmark_url    0\n",
       "                       ..\n",
       "qty_redirects           0\n",
       "url_google_index        0\n",
       "domain_google_index     0\n",
       "url_shortened           0\n",
       "phishing                0\n",
       "Length: 112, dtype: int64"
      ]
     },
     "execution_count": 7,
     "metadata": {},
     "output_type": "execute_result"
    }
   ],
   "source": [
    "df.isna().sum()"
   ]
  },
  {
   "cell_type": "markdown",
   "id": "e0b95257",
   "metadata": {},
   "source": [
    "<h3> The unique value in data is checked and printed below. <h3/> "
   ]
  },
  {
   "cell_type": "code",
   "execution_count": 8,
   "id": "70540b4b",
   "metadata": {},
   "outputs": [
    {
     "name": "stdout",
     "output_type": "stream",
     "text": [
      "qty_dot_url has 23 unique values\n",
      "qty_hyphen_url has 30 unique values\n",
      "qty_underline_url has 22 unique values\n",
      "qty_slash_url has 25 unique values\n",
      "qty_questionmark_url contains:\t\t\t[0 1 2 3 9 7]\n",
      "qty_equal_url has 20 unique values\n",
      "qty_at_url has 15 unique values\n",
      "qty_and_url has 21 unique values\n",
      "qty_exclamation_url contains:\t\t\t[ 0  1  8  2  5  3  4  9  6 10]\n",
      "qty_space_url contains:\t\t\t[0 1 4 9 3 2 7 6]\n",
      "qty_tilde_url contains:\t\t\t[0 1 5 3 4 2]\n",
      "qty_comma_url contains:\t\t\t[ 0  1  4  3  2  5 11  7]\n",
      "qty_plus_url contains:\t\t\t[ 0  2  1  5  4  3  6  9 19  7]\n",
      "qty_asterisk_url has 18 unique values\n",
      "qty_hashtag_url contains:\t\t\t[ 0  2  9  3  1 13  7]\n",
      "qty_dollar_url contains:\t\t\t[ 0  1  6  3  9  8  2 10  5  4]\n",
      "qty_percent_url has 52 unique values\n",
      "qty_tld_url contains:\t\t\t[ 1  3  2  0  4  5 12  7  9]\n",
      "length_url has 453 unique values\n",
      "qty_dot_domain has 19 unique values\n",
      "qty_hyphen_domain has 12 unique values\n",
      "qty_underline_domain contains:\t\t\t[0 1 2 3]\n",
      "qty_slash_domain contains:\t\t\t[0]\n",
      "qty_questionmark_domain contains:\t\t\t[0]\n",
      "qty_equal_domain contains:\t\t\t[0]\n",
      "qty_at_domain contains:\t\t\t[0 1]\n",
      "qty_and_domain contains:\t\t\t[0]\n",
      "qty_exclamation_domain contains:\t\t\t[0]\n",
      "qty_space_domain contains:\t\t\t[0]\n",
      "qty_tilde_domain contains:\t\t\t[0]\n",
      "qty_comma_domain contains:\t\t\t[0]\n",
      "qty_plus_domain contains:\t\t\t[0]\n",
      "qty_asterisk_domain contains:\t\t\t[0]\n",
      "qty_hashtag_domain contains:\t\t\t[0]\n",
      "qty_dollar_domain contains:\t\t\t[0]\n",
      "qty_percent_domain contains:\t\t\t[0]\n",
      "qty_vowels_domain has 42 unique values\n",
      "domain_length has 94 unique values\n",
      "domain_in_ip contains:\t\t\t[0 1]\n",
      "server_client_domain contains:\t\t\t[0 1]\n",
      "qty_dot_directory has 16 unique values\n",
      "qty_hyphen_directory has 24 unique values\n",
      "qty_underline_directory has 18 unique values\n",
      "qty_slash_directory has 20 unique values\n",
      "qty_questionmark_directory contains:\t\t\t[ 0 -1]\n",
      "qty_equal_directory contains:\t\t\t[ 0 -1  2  1  3  4  5]\n",
      "qty_at_directory has 13 unique values\n",
      "qty_and_directory has 14 unique values\n",
      "qty_exclamation_directory contains:\t\t\t[ 0 -1  2  1  5  3  4  9  6]\n",
      "qty_space_directory contains:\t\t\t[ 0 -1  1  4  9  3  6  7  2]\n",
      "qty_tilde_directory contains:\t\t\t[ 0 -1  1  5  3  4  2]\n",
      "qty_comma_directory contains:\t\t\t[ 0 -1  1  3  5]\n",
      "qty_plus_directory contains:\t\t\t[ 0 -1  1  2  3  9  5 19  4  7]\n",
      "qty_asterisk_directory has 16 unique values\n",
      "qty_hashtag_directory contains:\t\t\t[ 0 -1]\n",
      "qty_dollar_directory has 11 unique values\n",
      "qty_percent_directory has 43 unique values\n",
      "directory_length has 239 unique values\n",
      "qty_dot_file contains:\t\t\t[ 1  0 -1  2  3  4  5 12  7 10]\n",
      "qty_hyphen_file has 22 unique values\n",
      "qty_underline_file has 18 unique values\n",
      "qty_slash_file contains:\t\t\t[ 0 -1]\n",
      "qty_questionmark_file contains:\t\t\t[ 0 -1]\n",
      "qty_equal_file contains:\t\t\t[ 0 -1  2  1  3]\n",
      "qty_at_file contains:\t\t\t[ 0 -1  1  2]\n",
      "qty_and_file contains:\t\t\t[ 0 -1  1  2  3]\n",
      "qty_exclamation_file contains:\t\t\t[ 0 -1  1  4  2]\n",
      "qty_space_file contains:\t\t\t[ 0 -1  1  4  9  3  6  7  2]\n",
      "qty_tilde_file contains:\t\t\t[ 0 -1  2  3  4  1]\n",
      "qty_comma_file contains:\t\t\t[ 0 -1  1  3  5  2]\n",
      "qty_plus_file contains:\t\t\t[ 0 -1  1  3  6  9  2 19  4  5]\n",
      "qty_asterisk_file contains:\t\t\t[ 0 -1  1 60 20  2 14]\n",
      "qty_hashtag_file contains:\t\t\t[ 0 -1]\n",
      "qty_dollar_file contains:\t\t\t[ 0 -1]\n",
      "qty_percent_file has 37 unique values\n",
      "file_length has 168 unique values\n",
      "qty_dot_params has 18 unique values\n",
      "qty_hyphen_params has 29 unique values\n",
      "qty_underline_params has 20 unique values\n",
      "qty_slash_params has 17 unique values\n",
      "qty_questionmark_params contains:\t\t\t[-1  0  1  2  3  9  7]\n",
      "qty_equal_params has 21 unique values\n",
      "qty_at_params contains:\t\t\t[-1  0  1 10  2  8]\n",
      "qty_and_params has 19 unique values\n",
      "qty_exclamation_params contains:\t\t\t[-1  0  1  8  2 10]\n",
      "qty_space_params contains:\t\t\t[-1  0  1  4]\n",
      "qty_tilde_params contains:\t\t\t[-1  0  1]\n",
      "qty_comma_params contains:\t\t\t[-1  0  1  4  3  2 11  7]\n",
      "qty_plus_params contains:\t\t\t[-1  0  2  1  4  3  6  5]\n",
      "qty_asterisk_params contains:\t\t\t[-1  0  1  4]\n",
      "qty_hashtag_params contains:\t\t\t[-1  0]\n",
      "qty_dollar_params contains:\t\t\t[-1  0  1  3  4]\n",
      "qty_percent_params has 38 unique values\n",
      "params_length has 354 unique values\n",
      "tld_present_params contains:\t\t\t[-1  0  1]\n",
      "qty_params has 19 unique values\n",
      "email_in_url contains:\t\t\t[0 1]\n",
      "time_response has 80207 unique values\n",
      "domain_spf contains:\t\t\t[ 0 -1  1]\n",
      "asn_ip has 3638 unique values\n",
      "time_domain_activation has 8790 unique values\n",
      "time_domain_expiration has 3093 unique values\n",
      "qty_ip_resolved has 17 unique values\n",
      "qty_nameservers has 17 unique values\n",
      "qty_mx_servers has 17 unique values\n",
      "ttl_hostname has 10171 unique values\n",
      "tls_ssl_certificate contains:\t\t\t[0 1]\n",
      "qty_redirects has 15 unique values\n",
      "url_google_index contains:\t\t\t[ 0  1 -1]\n",
      "domain_google_index contains:\t\t\t[ 0 -1  1]\n",
      "url_shortened contains:\t\t\t[0 1]\n",
      "phishing contains:\t\t\t[1 0]\n"
     ]
    }
   ],
   "source": [
    "for col in df.columns:\n",
    "    unique_value_list = df[col].unique()\n",
    "    if len(unique_value_list) > 10:\n",
    "        print(f'{col} has {df[col].nunique()} unique values')\n",
    "    else:\n",
    "        print(f'{col} contains:\\t\\t\\t{unique_value_list}')"
   ]
  },
  {
   "cell_type": "markdown",
   "id": "ef8d2437",
   "metadata": {},
   "source": [
    "<h2>Exploratory Data Analysis</h2>"
   ]
  },
  {
   "cell_type": "markdown",
   "id": "001ed350",
   "metadata": {},
   "source": [
    "<h3> The data is analyzed to find the value counts for '0' and '1' A webiste is considered legitimate (value 0) or phishing (value 1). It was found that there are 58000 for 0s and 30647 for 1s. </h3>"
   ]
  },
  {
   "cell_type": "code",
   "execution_count": 9,
   "id": "c54c9b7e",
   "metadata": {},
   "outputs": [
    {
     "data": {
      "text/plain": [
       "0    58000\n",
       "1    30647\n",
       "Name: phishing, dtype: int64"
      ]
     },
     "execution_count": 9,
     "metadata": {},
     "output_type": "execute_result"
    }
   ],
   "source": [
    "df['phishing'].value_counts()"
   ]
  },
  {
   "cell_type": "markdown",
   "id": "85a28eee",
   "metadata": {},
   "source": [
    "<h3> Using countplot the 0s and 1s are plotted for better visuals </h3>"
   ]
  },
  {
   "cell_type": "code",
   "execution_count": 10,
   "id": "6f231baf",
   "metadata": {},
   "outputs": [
    {
     "name": "stderr",
     "output_type": "stream",
     "text": [
      "/opt/anaconda3/lib/python3.8/site-packages/seaborn/_decorators.py:36: FutureWarning: Pass the following variable as a keyword arg: x. From version 0.12, the only valid positional argument will be `data`, and passing other arguments without an explicit keyword will result in an error or misinterpretation.\n",
      "  warnings.warn(\n"
     ]
    },
    {
     "data": {
      "text/plain": [
       "<AxesSubplot:xlabel='phishing', ylabel='count'>"
      ]
     },
     "execution_count": 10,
     "metadata": {},
     "output_type": "execute_result"
    },
    {
     "data": {
      "image/png": "[encoded data removed]",
      "text/plain": [
       "<Figure size 432x288 with 1 Axes>"
      ]
     },
     "metadata": {
      "needs_background": "light"
     },
     "output_type": "display_data"
    }
   ],
   "source": [
    "sns.countplot(df['phishing'])"
   ]
  },
  {
   "cell_type": "markdown",
   "id": "0652a314",
   "metadata": {},
   "source": [
    "<h3> Correlation: A heat map (or heatmap) is a graphical representation of data with color-coded values. Heat maps make it simple to display and comprehend complicated data at a glance. We have plotted heatmap to find correlation between different features. <h3/>"
   ]
  },
  {
   "cell_type": "code",
   "execution_count": 11,
   "id": "3bb238d0",
   "metadata": {},
   "outputs": [
    {
     "data": {
      "text/plain": [
       "<AxesSubplot:>"
      ]
     },
     "execution_count": 11,
     "metadata": {},
     "output_type": "execute_result"
    },
    {
     "data": {
      "image/png": "[encoded data removed]",
      "text/plain": [
       "<Figure size 1080x1080 with 2 Axes>"
      ]
     },
     "metadata": {
      "needs_background": "light"
     },
     "output_type": "display_data"
    }
   ],
   "source": [
    "plt.figure(figsize=(15, 15))\n",
    "sns.heatmap(df.corr(), linewidths=.5)"
   ]
  },
  {
   "cell_type": "markdown",
   "id": "f20d9c16",
   "metadata": {},
   "source": [
    "<h3> This correlation is printed below <h3/>"
   ]
  },
  {
   "cell_type": "code",
   "execution_count": 12,
   "id": "cbbdf416",
   "metadata": {},
   "outputs": [
    {
     "data": {
      "text/html": [
       "<div>\n",
       "<style scoped>\n",
       "    .dataframe tbody tr th:only-of-type {\n",
       "        vertical-align: middle;\n",
       "    }\n",
       "\n",
       "    .dataframe tbody tr th {\n",
       "        vertical-align: top;\n",
       "    }\n",
       "\n",
       "    .dataframe thead th {\n",
       "        text-align: right;\n",
       "    }\n",
       "</style>\n",
       "<table border=\"1\" class=\"dataframe\">\n",
       "  <thead>\n",
       "    <tr style=\"text-align: right;\">\n",
       "      <th></th>\n",
       "      <th>qty_dot_url</th>\n",
       "      <th>qty_hyphen_url</th>\n",
       "      <th>qty_underline_url</th>\n",
       "      <th>qty_slash_url</th>\n",
       "      <th>qty_questionmark_url</th>\n",
       "      <th>qty_equal_url</th>\n",
       "      <th>qty_at_url</th>\n",
       "      <th>qty_and_url</th>\n",
       "      <th>qty_exclamation_url</th>\n",
       "      <th>qty_space_url</th>\n",
       "      <th>...</th>\n",
       "      <th>qty_ip_resolved</th>\n",
       "      <th>qty_nameservers</th>\n",
       "      <th>qty_mx_servers</th>\n",
       "      <th>ttl_hostname</th>\n",
       "      <th>tls_ssl_certificate</th>\n",
       "      <th>qty_redirects</th>\n",
       "      <th>url_google_index</th>\n",
       "      <th>domain_google_index</th>\n",
       "      <th>url_shortened</th>\n",
       "      <th>phishing</th>\n",
       "    </tr>\n",
       "  </thead>\n",
       "  <tbody>\n",
       "    <tr>\n",
       "      <th>qty_dot_url</th>\n",
       "      <td>1.000000</td>\n",
       "      <td>0.109737</td>\n",
       "      <td>0.127851</td>\n",
       "      <td>0.246201</td>\n",
       "      <td>0.409549</td>\n",
       "      <td>0.498531</td>\n",
       "      <td>0.169224</td>\n",
       "      <td>0.550918</td>\n",
       "      <td>0.004187</td>\n",
       "      <td>-0.000405</td>\n",
       "      <td>...</td>\n",
       "      <td>-0.054120</td>\n",
       "      <td>-0.014089</td>\n",
       "      <td>-0.049845</td>\n",
       "      <td>0.012300</td>\n",
       "      <td>-0.065105</td>\n",
       "      <td>-0.051842</td>\n",
       "      <td>-0.004035</td>\n",
       "      <td>-0.002490</td>\n",
       "      <td>-0.059222</td>\n",
       "      <td>0.171128</td>\n",
       "    </tr>\n",
       "    <tr>\n",
       "      <th>qty_hyphen_url</th>\n",
       "      <td>0.109737</td>\n",
       "      <td>1.000000</td>\n",
       "      <td>0.213589</td>\n",
       "      <td>0.304762</td>\n",
       "      <td>0.061247</td>\n",
       "      <td>0.175158</td>\n",
       "      <td>0.041982</td>\n",
       "      <td>0.127984</td>\n",
       "      <td>0.018253</td>\n",
       "      <td>0.018090</td>\n",
       "      <td>...</td>\n",
       "      <td>0.029222</td>\n",
       "      <td>0.032991</td>\n",
       "      <td>-0.027048</td>\n",
       "      <td>-0.031027</td>\n",
       "      <td>0.009113</td>\n",
       "      <td>-0.001930</td>\n",
       "      <td>-0.002939</td>\n",
       "      <td>0.006875</td>\n",
       "      <td>-0.010346</td>\n",
       "      <td>0.200382</td>\n",
       "    </tr>\n",
       "    <tr>\n",
       "      <th>qty_underline_url</th>\n",
       "      <td>0.127851</td>\n",
       "      <td>0.213589</td>\n",
       "      <td>1.000000</td>\n",
       "      <td>0.246653</td>\n",
       "      <td>0.067009</td>\n",
       "      <td>0.334635</td>\n",
       "      <td>0.056885</td>\n",
       "      <td>0.256192</td>\n",
       "      <td>0.062300</td>\n",
       "      <td>-0.000767</td>\n",
       "      <td>...</td>\n",
       "      <td>0.004625</td>\n",
       "      <td>0.023962</td>\n",
       "      <td>-0.007595</td>\n",
       "      <td>-0.027089</td>\n",
       "      <td>0.012809</td>\n",
       "      <td>-0.013864</td>\n",
       "      <td>-0.001823</td>\n",
       "      <td>0.003421</td>\n",
       "      <td>-0.012158</td>\n",
       "      <td>0.191151</td>\n",
       "    </tr>\n",
       "    <tr>\n",
       "      <th>qty_slash_url</th>\n",
       "      <td>0.246201</td>\n",
       "      <td>0.304762</td>\n",
       "      <td>0.246653</td>\n",
       "      <td>1.000000</td>\n",
       "      <td>0.182759</td>\n",
       "      <td>0.287043</td>\n",
       "      <td>0.102281</td>\n",
       "      <td>0.202511</td>\n",
       "      <td>0.025946</td>\n",
       "      <td>0.015055</td>\n",
       "      <td>...</td>\n",
       "      <td>-0.046034</td>\n",
       "      <td>-0.032416</td>\n",
       "      <td>-0.045904</td>\n",
       "      <td>-0.021936</td>\n",
       "      <td>-0.018282</td>\n",
       "      <td>-0.047873</td>\n",
       "      <td>-0.005406</td>\n",
       "      <td>0.009470</td>\n",
       "      <td>-0.001125</td>\n",
       "      <td>0.699061</td>\n",
       "    </tr>\n",
       "    <tr>\n",
       "      <th>qty_questionmark_url</th>\n",
       "      <td>0.409549</td>\n",
       "      <td>0.061247</td>\n",
       "      <td>0.067009</td>\n",
       "      <td>0.182759</td>\n",
       "      <td>1.000000</td>\n",
       "      <td>0.461202</td>\n",
       "      <td>0.126747</td>\n",
       "      <td>0.467278</td>\n",
       "      <td>0.017859</td>\n",
       "      <td>0.004359</td>\n",
       "      <td>...</td>\n",
       "      <td>-0.025966</td>\n",
       "      <td>-0.003923</td>\n",
       "      <td>-0.032176</td>\n",
       "      <td>-0.006653</td>\n",
       "      <td>-0.040856</td>\n",
       "      <td>-0.024214</td>\n",
       "      <td>0.011679</td>\n",
       "      <td>0.010029</td>\n",
       "      <td>0.012847</td>\n",
       "      <td>0.111694</td>\n",
       "    </tr>\n",
       "    <tr>\n",
       "      <th>...</th>\n",
       "      <td>...</td>\n",
       "      <td>...</td>\n",
       "      <td>...</td>\n",
       "      <td>...</td>\n",
       "      <td>...</td>\n",
       "      <td>...</td>\n",
       "      <td>...</td>\n",
       "      <td>...</td>\n",
       "      <td>...</td>\n",
       "      <td>...</td>\n",
       "      <td>...</td>\n",
       "      <td>...</td>\n",
       "      <td>...</td>\n",
       "      <td>...</td>\n",
       "      <td>...</td>\n",
       "      <td>...</td>\n",
       "      <td>...</td>\n",
       "      <td>...</td>\n",
       "      <td>...</td>\n",
       "      <td>...</td>\n",
       "      <td>...</td>\n",
       "    </tr>\n",
       "    <tr>\n",
       "      <th>qty_redirects</th>\n",
       "      <td>-0.051842</td>\n",
       "      <td>-0.001930</td>\n",
       "      <td>-0.013864</td>\n",
       "      <td>-0.047873</td>\n",
       "      <td>-0.024214</td>\n",
       "      <td>-0.043475</td>\n",
       "      <td>-0.017895</td>\n",
       "      <td>-0.030949</td>\n",
       "      <td>0.004488</td>\n",
       "      <td>-0.006923</td>\n",
       "      <td>...</td>\n",
       "      <td>0.274887</td>\n",
       "      <td>0.051420</td>\n",
       "      <td>0.133489</td>\n",
       "      <td>0.007329</td>\n",
       "      <td>0.306561</td>\n",
       "      <td>1.000000</td>\n",
       "      <td>0.038041</td>\n",
       "      <td>0.033091</td>\n",
       "      <td>0.049475</td>\n",
       "      <td>-0.061775</td>\n",
       "    </tr>\n",
       "    <tr>\n",
       "      <th>url_google_index</th>\n",
       "      <td>-0.004035</td>\n",
       "      <td>-0.002939</td>\n",
       "      <td>-0.001823</td>\n",
       "      <td>-0.005406</td>\n",
       "      <td>0.011679</td>\n",
       "      <td>-0.000349</td>\n",
       "      <td>-0.001903</td>\n",
       "      <td>-0.000335</td>\n",
       "      <td>-0.000811</td>\n",
       "      <td>-0.000336</td>\n",
       "      <td>...</td>\n",
       "      <td>0.043826</td>\n",
       "      <td>0.042233</td>\n",
       "      <td>0.022227</td>\n",
       "      <td>0.007591</td>\n",
       "      <td>0.026047</td>\n",
       "      <td>0.038041</td>\n",
       "      <td>1.000000</td>\n",
       "      <td>0.628815</td>\n",
       "      <td>-0.001785</td>\n",
       "      <td>-0.008986</td>\n",
       "    </tr>\n",
       "    <tr>\n",
       "      <th>domain_google_index</th>\n",
       "      <td>-0.002490</td>\n",
       "      <td>0.006875</td>\n",
       "      <td>0.003421</td>\n",
       "      <td>0.009470</td>\n",
       "      <td>0.010029</td>\n",
       "      <td>0.004701</td>\n",
       "      <td>-0.001889</td>\n",
       "      <td>0.001886</td>\n",
       "      <td>-0.001076</td>\n",
       "      <td>-0.000446</td>\n",
       "      <td>...</td>\n",
       "      <td>0.039959</td>\n",
       "      <td>0.040542</td>\n",
       "      <td>0.023628</td>\n",
       "      <td>0.008920</td>\n",
       "      <td>0.027592</td>\n",
       "      <td>0.033091</td>\n",
       "      <td>0.628815</td>\n",
       "      <td>1.000000</td>\n",
       "      <td>0.000045</td>\n",
       "      <td>0.000794</td>\n",
       "    </tr>\n",
       "    <tr>\n",
       "      <th>url_shortened</th>\n",
       "      <td>-0.059222</td>\n",
       "      <td>-0.010346</td>\n",
       "      <td>-0.012158</td>\n",
       "      <td>-0.001125</td>\n",
       "      <td>0.012847</td>\n",
       "      <td>-0.011855</td>\n",
       "      <td>-0.005330</td>\n",
       "      <td>-0.009989</td>\n",
       "      <td>-0.002503</td>\n",
       "      <td>-0.001038</td>\n",
       "      <td>...</td>\n",
       "      <td>0.059500</td>\n",
       "      <td>0.084482</td>\n",
       "      <td>0.013533</td>\n",
       "      <td>-0.031268</td>\n",
       "      <td>0.037850</td>\n",
       "      <td>0.049475</td>\n",
       "      <td>-0.001785</td>\n",
       "      <td>0.000045</td>\n",
       "      <td>1.000000</td>\n",
       "      <td>0.099250</td>\n",
       "    </tr>\n",
       "    <tr>\n",
       "      <th>phishing</th>\n",
       "      <td>0.171128</td>\n",
       "      <td>0.200382</td>\n",
       "      <td>0.191151</td>\n",
       "      <td>0.699061</td>\n",
       "      <td>0.111694</td>\n",
       "      <td>0.262597</td>\n",
       "      <td>0.108708</td>\n",
       "      <td>0.191967</td>\n",
       "      <td>0.032796</td>\n",
       "      <td>0.019224</td>\n",
       "      <td>...</td>\n",
       "      <td>-0.029340</td>\n",
       "      <td>-0.066336</td>\n",
       "      <td>-0.079580</td>\n",
       "      <td>-0.010740</td>\n",
       "      <td>-0.036249</td>\n",
       "      <td>-0.061775</td>\n",
       "      <td>-0.008986</td>\n",
       "      <td>0.000794</td>\n",
       "      <td>0.099250</td>\n",
       "      <td>1.000000</td>\n",
       "    </tr>\n",
       "  </tbody>\n",
       "</table>\n",
       "<p>112 rows × 112 columns</p>\n",
       "</div>"
      ],
      "text/plain": [
       "                      qty_dot_url  qty_hyphen_url  qty_underline_url  \\\n",
       "qty_dot_url              1.000000        0.109737           0.127851   \n",
       "qty_hyphen_url           0.109737        1.000000           0.213589   \n",
       "qty_underline_url        0.127851        0.213589           1.000000   \n",
       "qty_slash_url            0.246201        0.304762           0.246653   \n",
       "qty_questionmark_url     0.409549        0.061247           0.067009   \n",
       "...                           ...             ...                ...   \n",
       "qty_redirects           -0.051842       -0.001930          -0.013864   \n",
       "url_google_index        -0.004035       -0.002939          -0.001823   \n",
       "domain_google_index     -0.002490        0.006875           0.003421   \n",
       "url_shortened           -0.059222       -0.010346          -0.012158   \n",
       "phishing                 0.171128        0.200382           0.191151   \n",
       "\n",
       "                      qty_slash_url  qty_questionmark_url  qty_equal_url  \\\n",
       "qty_dot_url                0.246201              0.409549       0.498531   \n",
       "qty_hyphen_url             0.304762              0.061247       0.175158   \n",
       "qty_underline_url          0.246653              0.067009       0.334635   \n",
       "qty_slash_url              1.000000              0.182759       0.287043   \n",
       "qty_questionmark_url       0.182759              1.000000       0.461202   \n",
       "...                             ...                   ...            ...   \n",
       "qty_redirects             -0.047873             -0.024214      -0.043475   \n",
       "url_google_index          -0.005406              0.011679      -0.000349   \n",
       "domain_google_index        0.009470              0.010029       0.004701   \n",
       "url_shortened             -0.001125              0.012847      -0.011855   \n",
       "phishing                   0.699061              0.111694       0.262597   \n",
       "\n",
       "                      qty_at_url  qty_and_url  qty_exclamation_url  \\\n",
       "qty_dot_url             0.169224     0.550918             0.004187   \n",
       "qty_hyphen_url          0.041982     0.127984             0.018253   \n",
       "qty_underline_url       0.056885     0.256192             0.062300   \n",
       "qty_slash_url           0.102281     0.202511             0.025946   \n",
       "qty_questionmark_url    0.126747     0.467278             0.017859   \n",
       "...                          ...          ...                  ...   \n",
       "qty_redirects          -0.017895    -0.030949             0.004488   \n",
       "url_google_index       -0.001903    -0.000335            -0.000811   \n",
       "domain_google_index    -0.001889     0.001886            -0.001076   \n",
       "url_shortened          -0.005330    -0.009989            -0.002503   \n",
       "phishing                0.108708     0.191967             0.032796   \n",
       "\n",
       "                      qty_space_url  ...  qty_ip_resolved  qty_nameservers  \\\n",
       "qty_dot_url               -0.000405  ...        -0.054120        -0.014089   \n",
       "qty_hyphen_url             0.018090  ...         0.029222         0.032991   \n",
       "qty_underline_url         -0.000767  ...         0.004625         0.023962   \n",
       "qty_slash_url              0.015055  ...        -0.046034        -0.032416   \n",
       "qty_questionmark_url       0.004359  ...        -0.025966        -0.003923   \n",
       "...                             ...  ...              ...              ...   \n",
       "qty_redirects             -0.006923  ...         0.274887         0.051420   \n",
       "url_google_index          -0.000336  ...         0.043826         0.042233   \n",
       "domain_google_index       -0.000446  ...         0.039959         0.040542   \n",
       "url_shortened             -0.001038  ...         0.059500         0.084482   \n",
       "phishing                   0.019224  ...        -0.029340        -0.066336   \n",
       "\n",
       "                      qty_mx_servers  ttl_hostname  tls_ssl_certificate  \\\n",
       "qty_dot_url                -0.049845      0.012300            -0.065105   \n",
       "qty_hyphen_url             -0.027048     -0.031027             0.009113   \n",
       "qty_underline_url          -0.007595     -0.027089             0.012809   \n",
       "qty_slash_url              -0.045904     -0.021936            -0.018282   \n",
       "qty_questionmark_url       -0.032176     -0.006653            -0.040856   \n",
       "...                              ...           ...                  ...   \n",
       "qty_redirects               0.133489      0.007329             0.306561   \n",
       "url_google_index            0.022227      0.007591             0.026047   \n",
       "domain_google_index         0.023628      0.008920             0.027592   \n",
       "url_shortened               0.013533     -0.031268             0.037850   \n",
       "phishing                   -0.079580     -0.010740            -0.036249   \n",
       "\n",
       "                      qty_redirects  url_google_index  domain_google_index  \\\n",
       "qty_dot_url               -0.051842         -0.004035            -0.002490   \n",
       "qty_hyphen_url            -0.001930         -0.002939             0.006875   \n",
       "qty_underline_url         -0.013864         -0.001823             0.003421   \n",
       "qty_slash_url             -0.047873         -0.005406             0.009470   \n",
       "qty_questionmark_url      -0.024214          0.011679             0.010029   \n",
       "...                             ...               ...                  ...   \n",
       "qty_redirects              1.000000          0.038041             0.033091   \n",
       "url_google_index           0.038041          1.000000             0.628815   \n",
       "domain_google_index        0.033091          0.628815             1.000000   \n",
       "url_shortened              0.049475         -0.001785             0.000045   \n",
       "phishing                  -0.061775         -0.008986             0.000794   \n",
       "\n",
       "                      url_shortened  phishing  \n",
       "qty_dot_url               -0.059222  0.171128  \n",
       "qty_hyphen_url            -0.010346  0.200382  \n",
       "qty_underline_url         -0.012158  0.191151  \n",
       "qty_slash_url             -0.001125  0.699061  \n",
       "qty_questionmark_url       0.012847  0.111694  \n",
       "...                             ...       ...  \n",
       "qty_redirects              0.049475 -0.061775  \n",
       "url_google_index          -0.001785 -0.008986  \n",
       "domain_google_index        0.000045  0.000794  \n",
       "url_shortened              1.000000  0.099250  \n",
       "phishing                   0.099250  1.000000  \n",
       "\n",
       "[112 rows x 112 columns]"
      ]
     },
     "execution_count": 12,
     "metadata": {},
     "output_type": "execute_result"
    }
   ],
   "source": [
    "correlation= df.corr()\n",
    "correlation"
   ]
  },
  {
   "cell_type": "code",
   "execution_count": 13,
   "id": "81241318",
   "metadata": {},
   "outputs": [
    {
     "name": "stdout",
     "output_type": "stream",
     "text": [
      "qty_dot_url             1.000000\n",
      "qty_hyphen_url          0.109737\n",
      "qty_underline_url       0.127851\n",
      "qty_slash_url           0.246201\n",
      "qty_questionmark_url    0.409549\n",
      "                          ...   \n",
      "qty_redirects          -0.051842\n",
      "url_google_index       -0.004035\n",
      "domain_google_index    -0.002490\n",
      "url_shortened          -0.059222\n",
      "phishing                0.171128\n",
      "Name: qty_dot_url, Length: 112, dtype: float64\n"
     ]
    }
   ],
   "source": [
    "print(correlation['qty_dot_url'])"
   ]
  },
  {
   "cell_type": "markdown",
   "id": "5d7e0fc0",
   "metadata": {},
   "source": [
    "<h3> Outliers: A data item/object that deviates greatly from the rest of the objects is referred to be an outlier. Errors in measurement or execution might cause them. In the give jupyter the The outliers are detected using the z score. In this methodology, the threshold is kept to 3. \n",
    "Using IQR, the outliers are removed, and a new dataset is generated <h3/>\n"
   ]
  },
  {
   "cell_type": "code",
   "execution_count": 14,
   "id": "41609f7b",
   "metadata": {},
   "outputs": [
    {
     "name": "stdout",
     "output_type": "stream",
     "text": [
      "[[0.65444938 0.29376903 0.17313003 ... 0.03192479 0.07424717 1.3756882 ]\n",
      " [2.27305787 0.29376903 1.34717284 ... 0.03192479 0.07424717 1.3756882 ]\n",
      " [0.15485486 0.29376903 0.17313003 ... 0.03192479 0.07424717 0.7269089 ]\n",
      " ...\n",
      " [0.15485486 0.59966254 0.17313003 ... 0.03192479 0.07424717 1.3756882 ]\n",
      " [0.15485486 0.29376903 0.17313003 ... 0.03192479 0.07424717 1.3756882 ]\n",
      " [0.15485486 0.29376903 0.17313003 ... 0.03192479 0.07424717 0.7269089 ]]\n"
     ]
    }
   ],
   "source": [
    "#Finding Outliers using z-score:\n",
    "\n",
    "from scipy import stats\n",
    "z = np.abs(stats.zscore(df))\n",
    "print(z)"
   ]
  },
  {
   "cell_type": "code",
   "execution_count": 15,
   "id": "972c51cf",
   "metadata": {},
   "outputs": [
    {
     "name": "stdout",
     "output_type": "stream",
     "text": [
      "(array([    1,     1,     1, ..., 88642, 88643, 88644]), array([17, 18, 40, ..., 17, 36, 99]))\n"
     ]
    }
   ],
   "source": [
    "threshold = 3\n",
    "print(np.where(z > 3))"
   ]
  },
  {
   "cell_type": "code",
   "execution_count": 16,
   "id": "45886c03",
   "metadata": {},
   "outputs": [
    {
     "name": "stdout",
     "output_type": "stream",
     "text": [
      "qty_dot_url             0.0\n",
      "qty_hyphen_url          0.0\n",
      "qty_underline_url       0.0\n",
      "qty_slash_url           2.0\n",
      "qty_questionmark_url    0.0\n",
      "                       ... \n",
      "qty_redirects           1.0\n",
      "url_google_index        0.0\n",
      "domain_google_index     0.0\n",
      "url_shortened           0.0\n",
      "phishing                1.0\n",
      "Length: 112, dtype: float64\n"
     ]
    }
   ],
   "source": [
    "#IQR Score:\n",
    "\n",
    "Q1 = df.quantile(0.25)\n",
    "Q3 = df.quantile(0.75)\n",
    "IQR = Q3 - Q1\n",
    "print(IQR)"
   ]
  },
  {
   "cell_type": "markdown",
   "id": "57f518df",
   "metadata": {},
   "source": [
    "<h3> True means presence of an outlier: </h3>"
   ]
  },
  {
   "cell_type": "code",
   "execution_count": 29,
   "id": "79dd2c4d",
   "metadata": {},
   "outputs": [
    {
     "name": "stdout",
     "output_type": "stream",
     "text": [
      "       qty_dot_url  qty_hyphen_url  qty_underline_url  qty_slash_url  \\\n",
      "0            False           False              False          False   \n",
      "1            False           False              False          False   \n",
      "2            False           False              False          False   \n",
      "3            False           False              False          False   \n",
      "4            False           False              False          False   \n",
      "...            ...             ...                ...            ...   \n",
      "88642        False           False              False          False   \n",
      "88643        False           False              False          False   \n",
      "88644        False           False              False          False   \n",
      "88645        False           False              False          False   \n",
      "88646        False           False              False          False   \n",
      "\n",
      "       qty_questionmark_url  qty_equal_url  qty_at_url  qty_and_url  \\\n",
      "0                     False          False       False        False   \n",
      "1                     False          False       False        False   \n",
      "2                     False          False       False        False   \n",
      "3                     False          False       False        False   \n",
      "4                     False          False       False        False   \n",
      "...                     ...            ...         ...          ...   \n",
      "88642                 False          False       False        False   \n",
      "88643                 False          False       False        False   \n",
      "88644                 False          False       False        False   \n",
      "88645                 False          False       False        False   \n",
      "88646                 False          False       False        False   \n",
      "\n",
      "       qty_exclamation_url  qty_space_url  ...  qty_ip_resolved  \\\n",
      "0                    False          False  ...            False   \n",
      "1                    False          False  ...            False   \n",
      "2                    False          False  ...            False   \n",
      "3                    False          False  ...            False   \n",
      "4                    False          False  ...            False   \n",
      "...                    ...            ...  ...              ...   \n",
      "88642                False          False  ...            False   \n",
      "88643                False          False  ...            False   \n",
      "88644                False          False  ...            False   \n",
      "88645                False          False  ...            False   \n",
      "88646                False          False  ...            False   \n",
      "\n",
      "       qty_nameservers  qty_mx_servers  ttl_hostname  tls_ssl_certificate  \\\n",
      "0                False           False         False                False   \n",
      "1                False           False         False                False   \n",
      "2                False           False         False                False   \n",
      "3                False           False         False                False   \n",
      "4                False           False         False                False   \n",
      "...                ...             ...           ...                  ...   \n",
      "88642            False           False         False                False   \n",
      "88643            False           False         False                False   \n",
      "88644            False           False         False                False   \n",
      "88645            False           False         False                False   \n",
      "88646            False           False         False                False   \n",
      "\n",
      "       qty_redirects  url_google_index  domain_google_index  url_shortened  \\\n",
      "0              False             False                False          False   \n",
      "1              False             False                False          False   \n",
      "2              False             False                False          False   \n",
      "3              False             False                False          False   \n",
      "4              False             False                False          False   \n",
      "...              ...               ...                  ...            ...   \n",
      "88642          False             False                False          False   \n",
      "88643          False             False                False          False   \n",
      "88644          False             False                False          False   \n",
      "88645          False             False                False          False   \n",
      "88646          False             False                False          False   \n",
      "\n",
      "       phishing  \n",
      "0         False  \n",
      "1         False  \n",
      "2         False  \n",
      "3         False  \n",
      "4         False  \n",
      "...         ...  \n",
      "88642     False  \n",
      "88643     False  \n",
      "88644     False  \n",
      "88645     False  \n",
      "88646     False  \n",
      "\n",
      "[88647 rows x 112 columns]\n"
     ]
    },
    {
     "ename": "TypeError",
     "evalue": "Cannot perform 'ror_' with a dtyped [bool] array and scalar of type [NoneType]",
     "output_type": "error",
     "traceback": [
      "\u001b[0;31m---------------------------------------------------------------------------\u001b[0m",
      "\u001b[0;31mTypeError\u001b[0m                                 Traceback (most recent call last)",
      "\u001b[0;32m/opt/anaconda3/lib/python3.8/site-packages/pandas/core/ops/array_ops.py\u001b[0m in \u001b[0;36mna_logical_op\u001b[0;34m(x, y, op)\u001b[0m\n\u001b[1;32m    264\u001b[0m         \u001b[0;31m#  (xint or xbool) and (yint or bool)\u001b[0m\u001b[0;34m\u001b[0m\u001b[0;34m\u001b[0m\u001b[0;34m\u001b[0m\u001b[0m\n\u001b[0;32m--> 265\u001b[0;31m         \u001b[0mresult\u001b[0m \u001b[0;34m=\u001b[0m \u001b[0mop\u001b[0m\u001b[0;34m(\u001b[0m\u001b[0mx\u001b[0m\u001b[0;34m,\u001b[0m \u001b[0my\u001b[0m\u001b[0;34m)\u001b[0m\u001b[0;34m\u001b[0m\u001b[0;34m\u001b[0m\u001b[0m\n\u001b[0m\u001b[1;32m    266\u001b[0m     \u001b[0;32mexcept\u001b[0m \u001b[0mTypeError\u001b[0m\u001b[0;34m:\u001b[0m\u001b[0;34m\u001b[0m\u001b[0;34m\u001b[0m\u001b[0m\n",
      "\u001b[0;32m/opt/anaconda3/lib/python3.8/site-packages/pandas/core/ops/roperator.py\u001b[0m in \u001b[0;36mror_\u001b[0;34m(left, right)\u001b[0m\n\u001b[1;32m     55\u001b[0m \u001b[0;32mdef\u001b[0m \u001b[0mror_\u001b[0m\u001b[0;34m(\u001b[0m\u001b[0mleft\u001b[0m\u001b[0;34m,\u001b[0m \u001b[0mright\u001b[0m\u001b[0;34m)\u001b[0m\u001b[0;34m:\u001b[0m\u001b[0;34m\u001b[0m\u001b[0;34m\u001b[0m\u001b[0m\n\u001b[0;32m---> 56\u001b[0;31m     \u001b[0;32mreturn\u001b[0m \u001b[0moperator\u001b[0m\u001b[0;34m.\u001b[0m\u001b[0mor_\u001b[0m\u001b[0;34m(\u001b[0m\u001b[0mright\u001b[0m\u001b[0;34m,\u001b[0m \u001b[0mleft\u001b[0m\u001b[0;34m)\u001b[0m\u001b[0;34m\u001b[0m\u001b[0;34m\u001b[0m\u001b[0m\n\u001b[0m\u001b[1;32m     57\u001b[0m \u001b[0;34m\u001b[0m\u001b[0m\n",
      "\u001b[0;31mTypeError\u001b[0m: unsupported operand type(s) for |: 'NoneType' and 'bool'",
      "\nDuring handling of the above exception, another exception occurred:\n",
      "\u001b[0;31mValueError\u001b[0m                                Traceback (most recent call last)",
      "\u001b[0;32m/opt/anaconda3/lib/python3.8/site-packages/pandas/core/ops/array_ops.py\u001b[0m in \u001b[0;36mna_logical_op\u001b[0;34m(x, y, op)\u001b[0m\n\u001b[1;32m    278\u001b[0m             \u001b[0;32mtry\u001b[0m\u001b[0;34m:\u001b[0m\u001b[0;34m\u001b[0m\u001b[0;34m\u001b[0m\u001b[0m\n\u001b[0;32m--> 279\u001b[0;31m                 \u001b[0mresult\u001b[0m \u001b[0;34m=\u001b[0m \u001b[0mlibops\u001b[0m\u001b[0;34m.\u001b[0m\u001b[0mscalar_binop\u001b[0m\u001b[0;34m(\u001b[0m\u001b[0mx\u001b[0m\u001b[0;34m,\u001b[0m \u001b[0my\u001b[0m\u001b[0;34m,\u001b[0m \u001b[0mop\u001b[0m\u001b[0;34m)\u001b[0m\u001b[0;34m\u001b[0m\u001b[0;34m\u001b[0m\u001b[0m\n\u001b[0m\u001b[1;32m    280\u001b[0m             except (\n",
      "\u001b[0;32mpandas/_libs/ops.pyx\u001b[0m in \u001b[0;36mpandas._libs.ops.scalar_binop\u001b[0;34m()\u001b[0m\n",
      "\u001b[0;31mValueError\u001b[0m: Buffer has wrong number of dimensions (expected 1, got 2)",
      "\nThe above exception was the direct cause of the following exception:\n",
      "\u001b[0;31mTypeError\u001b[0m                                 Traceback (most recent call last)",
      "\u001b[0;32m<ipython-input-29-a02a94f243ef>\u001b[0m in \u001b[0;36m<module>\u001b[0;34m\u001b[0m\n\u001b[0;32m----> 1\u001b[0;31m \u001b[0mprint\u001b[0m\u001b[0;34m(\u001b[0m\u001b[0mdf\u001b[0m \u001b[0;34m<\u001b[0m \u001b[0;34m(\u001b[0m\u001b[0mQ1\u001b[0m \u001b[0;34m-\u001b[0m \u001b[0;36m1.5\u001b[0m \u001b[0;34m*\u001b[0m \u001b[0mIQR\u001b[0m\u001b[0;34m)\u001b[0m\u001b[0;34m)\u001b[0m \u001b[0;34m|\u001b[0m\u001b[0;34m(\u001b[0m\u001b[0mdf\u001b[0m \u001b[0;34m>\u001b[0m \u001b[0;34m(\u001b[0m\u001b[0mQ3\u001b[0m \u001b[0;34m+\u001b[0m \u001b[0;36m1.5\u001b[0m \u001b[0;34m*\u001b[0m \u001b[0mIQR\u001b[0m\u001b[0;34m)\u001b[0m\u001b[0;34m)\u001b[0m\u001b[0;34m\u001b[0m\u001b[0;34m\u001b[0m\u001b[0m\n\u001b[0m",
      "\u001b[0;32m/opt/anaconda3/lib/python3.8/site-packages/pandas/core/ops/common.py\u001b[0m in \u001b[0;36mnew_method\u001b[0;34m(self, other)\u001b[0m\n\u001b[1;32m     63\u001b[0m         \u001b[0mother\u001b[0m \u001b[0;34m=\u001b[0m \u001b[0mitem_from_zerodim\u001b[0m\u001b[0;34m(\u001b[0m\u001b[0mother\u001b[0m\u001b[0;34m)\u001b[0m\u001b[0;34m\u001b[0m\u001b[0;34m\u001b[0m\u001b[0m\n\u001b[1;32m     64\u001b[0m \u001b[0;34m\u001b[0m\u001b[0m\n\u001b[0;32m---> 65\u001b[0;31m         \u001b[0;32mreturn\u001b[0m \u001b[0mmethod\u001b[0m\u001b[0;34m(\u001b[0m\u001b[0mself\u001b[0m\u001b[0;34m,\u001b[0m \u001b[0mother\u001b[0m\u001b[0;34m)\u001b[0m\u001b[0;34m\u001b[0m\u001b[0;34m\u001b[0m\u001b[0m\n\u001b[0m\u001b[1;32m     66\u001b[0m \u001b[0;34m\u001b[0m\u001b[0m\n\u001b[1;32m     67\u001b[0m     \u001b[0;32mreturn\u001b[0m \u001b[0mnew_method\u001b[0m\u001b[0;34m\u001b[0m\u001b[0;34m\u001b[0m\u001b[0m\n",
      "\u001b[0;32m/opt/anaconda3/lib/python3.8/site-packages/pandas/core/arraylike.py\u001b[0m in \u001b[0;36m__ror__\u001b[0;34m(self, other)\u001b[0m\n\u001b[1;32m     69\u001b[0m     \u001b[0;34m@\u001b[0m\u001b[0munpack_zerodim_and_defer\u001b[0m\u001b[0;34m(\u001b[0m\u001b[0;34m\"__ror__\"\u001b[0m\u001b[0;34m)\u001b[0m\u001b[0;34m\u001b[0m\u001b[0;34m\u001b[0m\u001b[0m\n\u001b[1;32m     70\u001b[0m     \u001b[0;32mdef\u001b[0m \u001b[0m__ror__\u001b[0m\u001b[0;34m(\u001b[0m\u001b[0mself\u001b[0m\u001b[0;34m,\u001b[0m \u001b[0mother\u001b[0m\u001b[0;34m)\u001b[0m\u001b[0;34m:\u001b[0m\u001b[0;34m\u001b[0m\u001b[0;34m\u001b[0m\u001b[0m\n\u001b[0;32m---> 71\u001b[0;31m         \u001b[0;32mreturn\u001b[0m \u001b[0mself\u001b[0m\u001b[0;34m.\u001b[0m\u001b[0m_logical_method\u001b[0m\u001b[0;34m(\u001b[0m\u001b[0mother\u001b[0m\u001b[0;34m,\u001b[0m \u001b[0mroperator\u001b[0m\u001b[0;34m.\u001b[0m\u001b[0mror_\u001b[0m\u001b[0;34m)\u001b[0m\u001b[0;34m\u001b[0m\u001b[0;34m\u001b[0m\u001b[0m\n\u001b[0m\u001b[1;32m     72\u001b[0m \u001b[0;34m\u001b[0m\u001b[0m\n\u001b[1;32m     73\u001b[0m     \u001b[0;34m@\u001b[0m\u001b[0munpack_zerodim_and_defer\u001b[0m\u001b[0;34m(\u001b[0m\u001b[0;34m\"__xor__\"\u001b[0m\u001b[0;34m)\u001b[0m\u001b[0;34m\u001b[0m\u001b[0;34m\u001b[0m\u001b[0m\n",
      "\u001b[0;32m/opt/anaconda3/lib/python3.8/site-packages/pandas/core/frame.py\u001b[0m in \u001b[0;36m_arith_method\u001b[0;34m(self, other, op)\u001b[0m\n\u001b[1;32m   5980\u001b[0m         \u001b[0mself\u001b[0m\u001b[0;34m,\u001b[0m \u001b[0mother\u001b[0m \u001b[0;34m=\u001b[0m \u001b[0mops\u001b[0m\u001b[0;34m.\u001b[0m\u001b[0malign_method_FRAME\u001b[0m\u001b[0;34m(\u001b[0m\u001b[0mself\u001b[0m\u001b[0;34m,\u001b[0m \u001b[0mother\u001b[0m\u001b[0;34m,\u001b[0m \u001b[0maxis\u001b[0m\u001b[0;34m,\u001b[0m \u001b[0mflex\u001b[0m\u001b[0;34m=\u001b[0m\u001b[0;32mTrue\u001b[0m\u001b[0;34m,\u001b[0m \u001b[0mlevel\u001b[0m\u001b[0;34m=\u001b[0m\u001b[0;32mNone\u001b[0m\u001b[0;34m)\u001b[0m\u001b[0;34m\u001b[0m\u001b[0;34m\u001b[0m\u001b[0m\n\u001b[1;32m   5981\u001b[0m \u001b[0;34m\u001b[0m\u001b[0m\n\u001b[0;32m-> 5982\u001b[0;31m         \u001b[0mnew_data\u001b[0m \u001b[0;34m=\u001b[0m \u001b[0mself\u001b[0m\u001b[0;34m.\u001b[0m\u001b[0m_dispatch_frame_op\u001b[0m\u001b[0;34m(\u001b[0m\u001b[0mother\u001b[0m\u001b[0;34m,\u001b[0m \u001b[0mop\u001b[0m\u001b[0;34m,\u001b[0m \u001b[0maxis\u001b[0m\u001b[0;34m=\u001b[0m\u001b[0maxis\u001b[0m\u001b[0;34m)\u001b[0m\u001b[0;34m\u001b[0m\u001b[0;34m\u001b[0m\u001b[0m\n\u001b[0m\u001b[1;32m   5983\u001b[0m         \u001b[0;32mreturn\u001b[0m \u001b[0mself\u001b[0m\u001b[0;34m.\u001b[0m\u001b[0m_construct_result\u001b[0m\u001b[0;34m(\u001b[0m\u001b[0mnew_data\u001b[0m\u001b[0;34m)\u001b[0m\u001b[0;34m\u001b[0m\u001b[0;34m\u001b[0m\u001b[0m\n\u001b[1;32m   5984\u001b[0m \u001b[0;34m\u001b[0m\u001b[0m\n",
      "\u001b[0;32m/opt/anaconda3/lib/python3.8/site-packages/pandas/core/frame.py\u001b[0m in \u001b[0;36m_dispatch_frame_op\u001b[0;34m(self, right, func, axis)\u001b[0m\n\u001b[1;32m   6006\u001b[0m         \u001b[0;32mif\u001b[0m \u001b[0;32mnot\u001b[0m \u001b[0mis_list_like\u001b[0m\u001b[0;34m(\u001b[0m\u001b[0mright\u001b[0m\u001b[0;34m)\u001b[0m\u001b[0;34m:\u001b[0m\u001b[0;34m\u001b[0m\u001b[0;34m\u001b[0m\u001b[0m\n\u001b[1;32m   6007\u001b[0m             \u001b[0;31m# i.e. scalar, faster than checking np.ndim(right) == 0\u001b[0m\u001b[0;34m\u001b[0m\u001b[0;34m\u001b[0m\u001b[0;34m\u001b[0m\u001b[0m\n\u001b[0;32m-> 6008\u001b[0;31m             \u001b[0mbm\u001b[0m \u001b[0;34m=\u001b[0m \u001b[0mself\u001b[0m\u001b[0;34m.\u001b[0m\u001b[0m_mgr\u001b[0m\u001b[0;34m.\u001b[0m\u001b[0mapply\u001b[0m\u001b[0;34m(\u001b[0m\u001b[0marray_op\u001b[0m\u001b[0;34m,\u001b[0m \u001b[0mright\u001b[0m\u001b[0;34m=\u001b[0m\u001b[0mright\u001b[0m\u001b[0;34m)\u001b[0m\u001b[0;34m\u001b[0m\u001b[0;34m\u001b[0m\u001b[0m\n\u001b[0m\u001b[1;32m   6009\u001b[0m             \u001b[0;32mreturn\u001b[0m \u001b[0mtype\u001b[0m\u001b[0;34m(\u001b[0m\u001b[0mself\u001b[0m\u001b[0;34m)\u001b[0m\u001b[0;34m(\u001b[0m\u001b[0mbm\u001b[0m\u001b[0;34m)\u001b[0m\u001b[0;34m\u001b[0m\u001b[0;34m\u001b[0m\u001b[0m\n\u001b[1;32m   6010\u001b[0m \u001b[0;34m\u001b[0m\u001b[0m\n",
      "\u001b[0;32m/opt/anaconda3/lib/python3.8/site-packages/pandas/core/internals/managers.py\u001b[0m in \u001b[0;36mapply\u001b[0;34m(self, f, align_keys, ignore_failures, **kwargs)\u001b[0m\n\u001b[1;32m    423\u001b[0m             \u001b[0;32mtry\u001b[0m\u001b[0;34m:\u001b[0m\u001b[0;34m\u001b[0m\u001b[0;34m\u001b[0m\u001b[0m\n\u001b[1;32m    424\u001b[0m                 \u001b[0;32mif\u001b[0m \u001b[0mcallable\u001b[0m\u001b[0;34m(\u001b[0m\u001b[0mf\u001b[0m\u001b[0;34m)\u001b[0m\u001b[0;34m:\u001b[0m\u001b[0;34m\u001b[0m\u001b[0;34m\u001b[0m\u001b[0m\n\u001b[0;32m--> 425\u001b[0;31m                     \u001b[0mapplied\u001b[0m \u001b[0;34m=\u001b[0m \u001b[0mb\u001b[0m\u001b[0;34m.\u001b[0m\u001b[0mapply\u001b[0m\u001b[0;34m(\u001b[0m\u001b[0mf\u001b[0m\u001b[0;34m,\u001b[0m \u001b[0;34m**\u001b[0m\u001b[0mkwargs\u001b[0m\u001b[0;34m)\u001b[0m\u001b[0;34m\u001b[0m\u001b[0;34m\u001b[0m\u001b[0m\n\u001b[0m\u001b[1;32m    426\u001b[0m                 \u001b[0;32melse\u001b[0m\u001b[0;34m:\u001b[0m\u001b[0;34m\u001b[0m\u001b[0;34m\u001b[0m\u001b[0m\n\u001b[1;32m    427\u001b[0m                     \u001b[0mapplied\u001b[0m \u001b[0;34m=\u001b[0m \u001b[0mgetattr\u001b[0m\u001b[0;34m(\u001b[0m\u001b[0mb\u001b[0m\u001b[0;34m,\u001b[0m \u001b[0mf\u001b[0m\u001b[0;34m)\u001b[0m\u001b[0;34m(\u001b[0m\u001b[0;34m**\u001b[0m\u001b[0mkwargs\u001b[0m\u001b[0;34m)\u001b[0m\u001b[0;34m\u001b[0m\u001b[0;34m\u001b[0m\u001b[0m\n",
      "\u001b[0;32m/opt/anaconda3/lib/python3.8/site-packages/pandas/core/internals/blocks.py\u001b[0m in \u001b[0;36mapply\u001b[0;34m(self, func, **kwargs)\u001b[0m\n\u001b[1;32m    376\u001b[0m         \"\"\"\n\u001b[1;32m    377\u001b[0m         \u001b[0;32mwith\u001b[0m \u001b[0mnp\u001b[0m\u001b[0;34m.\u001b[0m\u001b[0merrstate\u001b[0m\u001b[0;34m(\u001b[0m\u001b[0mall\u001b[0m\u001b[0;34m=\u001b[0m\u001b[0;34m\"ignore\"\u001b[0m\u001b[0;34m)\u001b[0m\u001b[0;34m:\u001b[0m\u001b[0;34m\u001b[0m\u001b[0;34m\u001b[0m\u001b[0m\n\u001b[0;32m--> 378\u001b[0;31m             \u001b[0mresult\u001b[0m \u001b[0;34m=\u001b[0m \u001b[0mfunc\u001b[0m\u001b[0;34m(\u001b[0m\u001b[0mself\u001b[0m\u001b[0;34m.\u001b[0m\u001b[0mvalues\u001b[0m\u001b[0;34m,\u001b[0m \u001b[0;34m**\u001b[0m\u001b[0mkwargs\u001b[0m\u001b[0;34m)\u001b[0m\u001b[0;34m\u001b[0m\u001b[0;34m\u001b[0m\u001b[0m\n\u001b[0m\u001b[1;32m    379\u001b[0m \u001b[0;34m\u001b[0m\u001b[0m\n\u001b[1;32m    380\u001b[0m         \u001b[0;32mreturn\u001b[0m \u001b[0mself\u001b[0m\u001b[0;34m.\u001b[0m\u001b[0m_split_op_result\u001b[0m\u001b[0;34m(\u001b[0m\u001b[0mresult\u001b[0m\u001b[0;34m)\u001b[0m\u001b[0;34m\u001b[0m\u001b[0;34m\u001b[0m\u001b[0m\n",
      "\u001b[0;32m/opt/anaconda3/lib/python3.8/site-packages/pandas/core/ops/array_ops.py\u001b[0m in \u001b[0;36mlogical_op\u001b[0;34m(left, right, op)\u001b[0m\n\u001b[1;32m    353\u001b[0m         \u001b[0mfiller\u001b[0m \u001b[0;34m=\u001b[0m \u001b[0mfill_int\u001b[0m \u001b[0;32mif\u001b[0m \u001b[0mis_self_int_dtype\u001b[0m \u001b[0;32mand\u001b[0m \u001b[0mis_other_int_dtype\u001b[0m \u001b[0;32melse\u001b[0m \u001b[0mfill_bool\u001b[0m\u001b[0;34m\u001b[0m\u001b[0;34m\u001b[0m\u001b[0m\n\u001b[1;32m    354\u001b[0m \u001b[0;34m\u001b[0m\u001b[0m\n\u001b[0;32m--> 355\u001b[0;31m         \u001b[0mres_values\u001b[0m \u001b[0;34m=\u001b[0m \u001b[0mna_logical_op\u001b[0m\u001b[0;34m(\u001b[0m\u001b[0mlvalues\u001b[0m\u001b[0;34m,\u001b[0m \u001b[0mrvalues\u001b[0m\u001b[0;34m,\u001b[0m \u001b[0mop\u001b[0m\u001b[0;34m)\u001b[0m\u001b[0;34m\u001b[0m\u001b[0;34m\u001b[0m\u001b[0m\n\u001b[0m\u001b[1;32m    356\u001b[0m         \u001b[0;31m# error: Cannot call function of unknown type\u001b[0m\u001b[0;34m\u001b[0m\u001b[0;34m\u001b[0m\u001b[0;34m\u001b[0m\u001b[0m\n\u001b[1;32m    357\u001b[0m         \u001b[0mres_values\u001b[0m \u001b[0;34m=\u001b[0m \u001b[0mfiller\u001b[0m\u001b[0;34m(\u001b[0m\u001b[0mres_values\u001b[0m\u001b[0;34m)\u001b[0m  \u001b[0;31m# type: ignore[operator]\u001b[0m\u001b[0;34m\u001b[0m\u001b[0;34m\u001b[0m\u001b[0m\n",
      "\u001b[0;32m/opt/anaconda3/lib/python3.8/site-packages/pandas/core/ops/array_ops.py\u001b[0m in \u001b[0;36mna_logical_op\u001b[0;34m(x, y, op)\u001b[0m\n\u001b[1;32m    286\u001b[0m             ) as err:\n\u001b[1;32m    287\u001b[0m                 \u001b[0mtyp\u001b[0m \u001b[0;34m=\u001b[0m \u001b[0mtype\u001b[0m\u001b[0;34m(\u001b[0m\u001b[0my\u001b[0m\u001b[0;34m)\u001b[0m\u001b[0;34m.\u001b[0m\u001b[0m__name__\u001b[0m\u001b[0;34m\u001b[0m\u001b[0;34m\u001b[0m\u001b[0m\n\u001b[0;32m--> 288\u001b[0;31m                 raise TypeError(\n\u001b[0m\u001b[1;32m    289\u001b[0m                     \u001b[0;34mf\"Cannot perform '{op.__name__}' with a dtyped [{x.dtype}] array \"\u001b[0m\u001b[0;34m\u001b[0m\u001b[0;34m\u001b[0m\u001b[0m\n\u001b[1;32m    290\u001b[0m                     \u001b[0;34mf\"and scalar of type [{typ}]\"\u001b[0m\u001b[0;34m\u001b[0m\u001b[0;34m\u001b[0m\u001b[0m\n",
      "\u001b[0;31mTypeError\u001b[0m: Cannot perform 'ror_' with a dtyped [bool] array and scalar of type [NoneType]"
     ]
    }
   ],
   "source": [
    "print(df < (Q1 - 1.5 * IQR)) |(df > (Q3 + 1.5 * IQR))"
   ]
  },
  {
   "cell_type": "code",
   "execution_count": 18,
   "id": "bd9fca20",
   "metadata": {},
   "outputs": [
    {
     "data": {
      "text/plain": [
       "(13438, 112)"
      ]
     },
     "execution_count": 18,
     "metadata": {},
     "output_type": "execute_result"
    }
   ],
   "source": [
    "#Removing outliers:\n",
    "\n",
    "New_df = df[~((df < (Q1 - 1.5 * IQR)) |(df > (Q3 + 1.5 * IQR))).any(axis=1)]\n",
    "New_df.shape #new dataset without outliers"
   ]
  },
  {
   "cell_type": "code",
   "execution_count": 19,
   "id": "987a959f",
   "metadata": {},
   "outputs": [
    {
     "data": {
      "text/plain": [
       "(88647, 112)"
      ]
     },
     "execution_count": 19,
     "metadata": {},
     "output_type": "execute_result"
    }
   ],
   "source": [
    "df.shape #old dataset with outliers"
   ]
  },
  {
   "attachments": {},
   "cell_type": "markdown",
   "id": "7e49c9c6",
   "metadata": {},
   "source": [
    "<h2> Modeling </h2>\n",
    "<h3> The accuracy is retrieved using three different models. </h3>"
   ]
  },
  {
   "cell_type": "code",
   "execution_count": 20,
   "id": "e6f738ea",
   "metadata": {},
   "outputs": [
    {
     "name": "stdout",
     "output_type": "stream",
     "text": [
      "Collecting package metadata (current_repodata.json): done\n",
      "Solving environment: done\n",
      "\n",
      "# All requested packages already installed.\n",
      "\n",
      "\n",
      "Note: you may need to restart the kernel to use updated packages.\n"
     ]
    }
   ],
   "source": [
    "conda install -c anaconda py-xgboost"
   ]
  },
  {
   "cell_type": "code",
   "execution_count": 21,
   "id": "1577641c",
   "metadata": {},
   "outputs": [],
   "source": [
    "from sklearn.model_selection import train_test_split\n",
    "\n",
    "y = New_df['phishing']\n",
    "x = New_df.drop(columns=['phishing'])\n",
    "\n",
    "x_train,x_test,y_train,y_test = train_test_split(x,y,test_size=.25,random_state=0)"
   ]
  },
  {
   "cell_type": "code",
   "execution_count": 22,
   "id": "5f2c9b84",
   "metadata": {},
   "outputs": [],
   "source": [
    "from sklearn.preprocessing import StandardScaler\n",
    "sc_x = StandardScaler()\n",
    "x_train = sc_x.fit_transform(x_train)\n",
    "x_test = sc_x.fit_transform(x_test)"
   ]
  },
  {
   "cell_type": "markdown",
   "id": "a9d362d2",
   "metadata": {},
   "source": [
    "<h3> (1) Decision Tree Classifier </h3>"
   ]
  },
  {
   "cell_type": "code",
   "execution_count": 23,
   "id": "f8eaca50",
   "metadata": {},
   "outputs": [
    {
     "data": {
      "text/plain": [
       "0.9565476190476191"
      ]
     },
     "execution_count": 23,
     "metadata": {},
     "output_type": "execute_result"
    }
   ],
   "source": [
    "from sklearn.tree import DecisionTreeClassifier\n",
    "from sklearn.metrics import accuracy_score\n",
    "classifier = DecisionTreeClassifier(random_state =0)\n",
    "classifier.fit(x_train,y_train)\n",
    "y_predict = classifier.predict(x_test)\n",
    "accuracy_score(y_test,y_predict)"
   ]
  },
  {
   "cell_type": "markdown",
   "id": "4214d97e",
   "metadata": {},
   "source": [
    "<h3> (2) Random Forest Classifier </h3>"
   ]
  },
  {
   "cell_type": "code",
   "execution_count": 24,
   "id": "5b2773da",
   "metadata": {},
   "outputs": [
    {
     "data": {
      "text/plain": [
       "0.9747023809523809"
      ]
     },
     "execution_count": 24,
     "metadata": {},
     "output_type": "execute_result"
    }
   ],
   "source": [
    "from sklearn.ensemble import RandomForestClassifier\n",
    "classifier = RandomForestClassifier(n_estimators=10)\n",
    "classifier.fit(x_train,y_train)\n",
    "y_pred = classifier.predict(x_test)\n",
    "accuracy_score(y_test , y_pred)"
   ]
  },
  {
   "cell_type": "markdown",
   "id": "2852a4cc",
   "metadata": {},
   "source": [
    "<h3> (3) KNN Classifier </h3>"
   ]
  },
  {
   "cell_type": "code",
   "execution_count": 25,
   "id": "44bddd50",
   "metadata": {},
   "outputs": [
    {
     "data": {
      "text/plain": [
       "0.9729166666666667"
      ]
     },
     "execution_count": 25,
     "metadata": {},
     "output_type": "execute_result"
    }
   ],
   "source": [
    "from sklearn.neighbors import KNeighborsClassifier\n",
    "from sklearn.metrics import accuracy_score\n",
    "classifier = KNeighborsClassifier()\n",
    "classifier.fit(x_train,y_train)\n",
    "y_predict = classifier.predict(x_test)\n",
    "accuracy_score(y_test , y_predict)"
   ]
  },
  {
   "cell_type": "markdown",
   "id": "735d26dc",
   "metadata": {},
   "source": [
    "<h4> Applying K-fold </h4>"
   ]
  },
  {
   "cell_type": "code",
   "execution_count": 26,
   "id": "fbf7e6a0",
   "metadata": {},
   "outputs": [],
   "source": [
    "from sklearn.model_selection import KFold\n",
    "from xgboost import XGBClassifier"
   ]
  },
  {
   "cell_type": "code",
   "execution_count": 27,
   "id": "55e78c0f",
   "metadata": {},
   "outputs": [],
   "source": [
    "from sklearn.metrics import classification_report\n",
    "from sklearn.metrics import confusion_matrix\n",
    "from sklearn.metrics import accuracy_score\n",
    "\n",
    "\n",
    "def binary_classification_accuracy(actual, pred):\n",
    "    \n",
    "    print(f'Confusion matrix: \\n{confusion_matrix(actual, pred)}')\n",
    "    print(f'Accuracy score: \\n{accuracy_score(actual, pred)}')\n",
    "    print(f'Classification report: \\n{classification_report(actual, pred)}')"
   ]
  },
  {
   "cell_type": "code",
   "execution_count": 28,
   "id": "22972dfd",
   "metadata": {},
   "outputs": [
    {
     "name": "stderr",
     "output_type": "stream",
     "text": [
      "/opt/anaconda3/lib/python3.8/site-packages/xgboost/sklearn.py:888: UserWarning: The use of label encoder in XGBClassifier is deprecated and will be removed in a future release. To remove this warning, do the following: 1) Pass option use_label_encoder=False when constructing XGBClassifier object; and 2) Encode your labels (y) as integers starting with 0, i.e. 0, 1, 2, ..., [num_class - 1].\n",
      "  warnings.warn(label_encoder_deprecation_msg, UserWarning)\n"
     ]
    },
    {
     "name": "stdout",
     "output_type": "stream",
     "text": [
      "[18:35:18] WARNING: /opt/concourse/worker/volumes/live/7a2b9f41-3287-451b-6691-43e9a6c0910f/volume/xgboost-split_1619728204606/work/src/learner.cc:1061: Starting in XGBoost 1.3.0, the default evaluation metric used with the objective 'binary:logistic' was changed from 'error' to 'logloss'. Explicitly set eval_metric if you'd like to restore the old behavior.\n",
      "==== FOLD 1 ====\n",
      "Confusion matrix: \n",
      "[[3077   24]\n",
      " [  46  213]]\n",
      "Accuracy score: \n",
      "0.9791666666666666\n",
      "Classification report: \n",
      "              precision    recall  f1-score   support\n",
      "\n",
      "           0       0.99      0.99      0.99      3101\n",
      "           1       0.90      0.82      0.86       259\n",
      "\n",
      "    accuracy                           0.98      3360\n",
      "   macro avg       0.94      0.91      0.92      3360\n",
      "weighted avg       0.98      0.98      0.98      3360\n",
      "\n",
      "[18:35:19] WARNING: /opt/concourse/worker/volumes/live/7a2b9f41-3287-451b-6691-43e9a6c0910f/volume/xgboost-split_1619728204606/work/src/learner.cc:1061: Starting in XGBoost 1.3.0, the default evaluation metric used with the objective 'binary:logistic' was changed from 'error' to 'logloss'. Explicitly set eval_metric if you'd like to restore the old behavior.\n"
     ]
    },
    {
     "name": "stderr",
     "output_type": "stream",
     "text": [
      "/opt/anaconda3/lib/python3.8/site-packages/xgboost/sklearn.py:888: UserWarning: The use of label encoder in XGBClassifier is deprecated and will be removed in a future release. To remove this warning, do the following: 1) Pass option use_label_encoder=False when constructing XGBClassifier object; and 2) Encode your labels (y) as integers starting with 0, i.e. 0, 1, 2, ..., [num_class - 1].\n",
      "  warnings.warn(label_encoder_deprecation_msg, UserWarning)\n"
     ]
    },
    {
     "name": "stdout",
     "output_type": "stream",
     "text": [
      "==== FOLD 2 ====\n",
      "Confusion matrix: \n",
      "[[3103   19]\n",
      " [  45  193]]\n",
      "Accuracy score: \n",
      "0.9809523809523809\n",
      "Classification report: \n",
      "              precision    recall  f1-score   support\n",
      "\n",
      "           0       0.99      0.99      0.99      3122\n",
      "           1       0.91      0.81      0.86       238\n",
      "\n",
      "    accuracy                           0.98      3360\n",
      "   macro avg       0.95      0.90      0.92      3360\n",
      "weighted avg       0.98      0.98      0.98      3360\n",
      "\n",
      "[18:35:21] WARNING: /opt/concourse/worker/volumes/live/7a2b9f41-3287-451b-6691-43e9a6c0910f/volume/xgboost-split_1619728204606/work/src/learner.cc:1061: Starting in XGBoost 1.3.0, the default evaluation metric used with the objective 'binary:logistic' was changed from 'error' to 'logloss'. Explicitly set eval_metric if you'd like to restore the old behavior.\n"
     ]
    },
    {
     "name": "stderr",
     "output_type": "stream",
     "text": [
      "/opt/anaconda3/lib/python3.8/site-packages/xgboost/sklearn.py:888: UserWarning: The use of label encoder in XGBClassifier is deprecated and will be removed in a future release. To remove this warning, do the following: 1) Pass option use_label_encoder=False when constructing XGBClassifier object; and 2) Encode your labels (y) as integers starting with 0, i.e. 0, 1, 2, ..., [num_class - 1].\n",
      "  warnings.warn(label_encoder_deprecation_msg, UserWarning)\n"
     ]
    },
    {
     "name": "stdout",
     "output_type": "stream",
     "text": [
      "==== FOLD 3 ====\n",
      "Confusion matrix: \n",
      "[[3095   24]\n",
      " [  48  192]]\n",
      "Accuracy score: \n",
      "0.9785650491217625\n",
      "Classification report: \n",
      "              precision    recall  f1-score   support\n",
      "\n",
      "           0       0.98      0.99      0.99      3119\n",
      "           1       0.89      0.80      0.84       240\n",
      "\n",
      "    accuracy                           0.98      3359\n",
      "   macro avg       0.94      0.90      0.92      3359\n",
      "weighted avg       0.98      0.98      0.98      3359\n",
      "\n",
      "[18:35:22] WARNING: /opt/concourse/worker/volumes/live/7a2b9f41-3287-451b-6691-43e9a6c0910f/volume/xgboost-split_1619728204606/work/src/learner.cc:1061: Starting in XGBoost 1.3.0, the default evaluation metric used with the objective 'binary:logistic' was changed from 'error' to 'logloss'. Explicitly set eval_metric if you'd like to restore the old behavior.\n"
     ]
    },
    {
     "name": "stderr",
     "output_type": "stream",
     "text": [
      "/opt/anaconda3/lib/python3.8/site-packages/xgboost/sklearn.py:888: UserWarning: The use of label encoder in XGBClassifier is deprecated and will be removed in a future release. To remove this warning, do the following: 1) Pass option use_label_encoder=False when constructing XGBClassifier object; and 2) Encode your labels (y) as integers starting with 0, i.e. 0, 1, 2, ..., [num_class - 1].\n",
      "  warnings.warn(label_encoder_deprecation_msg, UserWarning)\n"
     ]
    },
    {
     "name": "stdout",
     "output_type": "stream",
     "text": [
      "==== FOLD 4 ====\n",
      "Confusion matrix: \n",
      "[[3094   26]\n",
      " [  41  198]]\n",
      "Accuracy score: \n",
      "0.9800535873771956\n",
      "Classification report: \n",
      "              precision    recall  f1-score   support\n",
      "\n",
      "           0       0.99      0.99      0.99      3120\n",
      "           1       0.88      0.83      0.86       239\n",
      "\n",
      "    accuracy                           0.98      3359\n",
      "   macro avg       0.94      0.91      0.92      3359\n",
      "weighted avg       0.98      0.98      0.98      3359\n",
      "\n"
     ]
    }
   ],
   "source": [
    "folds = KFold(n_splits=4, shuffle=True, random_state=42)\n",
    "\n",
    "train_index_list = list()\n",
    "validation_index_list = list()\n",
    "\n",
    "for fold, (train_idx, validation_idx) in enumerate(folds.split(x, y)):\n",
    "    \n",
    "    model = XGBClassifier()\n",
    "    model.fit(np.array(x)[train_idx,:], np.array(y)[train_idx])\n",
    "    predicted_values = model.predict(np.array(x)[validation_idx,:])\n",
    "    print(f'==== FOLD {fold+1} ====')\n",
    "    binary_classification_accuracy(np.array(y)[validation_idx], predicted_values)"
   ]
  },
  {
   "cell_type": "code",
   "execution_count": null,
   "id": "a1999399",
   "metadata": {},
   "outputs": [],
   "source": []
  }
 ],
 "metadata": {
  "kernelspec": {
   "display_name": "Python 3",
   "language": "python",
   "name": "python3"
  },
  "language_info": {
   "codemirror_mode": {
    "name": "ipython",
    "version": 3
   },
   "file_extension": ".py",
   "mimetype": "text/x-python",
   "name": "python",
   "nbconvert_exporter": "python",
   "pygments_lexer": "ipython3",
   "version": "3.8.8"
  }
 },
 "nbformat": 4,
 "nbformat_minor": 5
}
